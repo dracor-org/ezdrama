{
 "cells": [
  {
   "cell_type": "markdown",
   "id": "264e9ce6",
   "metadata": {},
   "source": [
    "## imports"
   ]
  },
  {
   "cell_type": "code",
   "execution_count": 88,
   "id": "90b424b2",
   "metadata": {},
   "outputs": [],
   "source": [
    "import sys\n",
    "import re\n",
    "#from transliterate import translit\n",
    "from bs4 import BeautifulSoup, Tag"
   ]
  },
  {
   "cell_type": "code",
   "execution_count": 105,
   "id": "83f9997f",
   "metadata": {},
   "outputs": [],
   "source": [
    "#from translitua import translit, UkrainianISO9"
   ]
  },
  {
   "cell_type": "code",
   "execution_count": 106,
   "id": "75a61808",
   "metadata": {},
   "outputs": [],
   "source": [
    "import os"
   ]
  },
  {
   "cell_type": "markdown",
   "id": "059a4b48",
   "metadata": {},
   "source": [
    "## functions"
   ]
  },
  {
   "cell_type": "code",
   "execution_count": 107,
   "id": "8adcdd27",
   "metadata": {},
   "outputs": [],
   "source": [
    "def parse_file(fpath):\n",
    "    path_to_file = fpath\n",
    "    with open(path_to_file) as openfile:\n",
    "        file_lines = openfile.readlines()\n",
    "    soup = parse_lines(file_lines) \n",
    "    augmented_soup = post_process(soup)\n",
    "    tree_to_write = str(soup).replace('\\n', '')\n",
    "    tree_to_write = add_spaces_inline_stages(tree_to_write) #\n",
    "    with open(re.sub(r'\\.(txt|md)', r'.xml',fpath), 'w') as outfile:\n",
    "        outfile.write(tree_to_write)"
   ]
  },
  {
   "cell_type": "code",
   "execution_count": 108,
   "id": "abbfa0ca",
   "metadata": {},
   "outputs": [],
   "source": [
    "def add_spaces_inline_stages(tree_as_string):\n",
    "    tree_as_string = re.sub(r'</stage>([^\\s])', r'</stage> \\1', tree_as_string)\n",
    "    tree_as_string = re.sub(r'([^\\s])<stage>', r'\\1 <stage>', tree_as_string)\n",
    "    return tree_as_string"
   ]
  },
  {
   "cell_type": "code",
   "execution_count": 109,
   "id": "6e96490c",
   "metadata": {},
   "outputs": [],
   "source": [
    "def create_header():\n",
    "    header = Tag(name='teiHeader')\n",
    "    fdesc = Tag(name='fileDesc')\n",
    "    titlestmt = Tag(name='titleStmt')\n",
    "    fdesc.append(titlestmt)\n",
    "    header.append(fdesc)\n",
    "    return(header)"
   ]
  },
  {
   "cell_type": "code",
   "execution_count": 110,
   "id": "6469cbef",
   "metadata": {},
   "outputs": [],
   "source": [
    "def get_div_level(line):\n",
    "    div_level = 1 # since we already located one # and since 0 is <body> level in this model\n",
    "    for char in line:\n",
    "        if char == '#':\n",
    "            div_level+=1\n",
    "        else:\n",
    "            break\n",
    "    return(div_level)"
   ]
  },
  {
   "cell_type": "code",
   "execution_count": 111,
   "id": "8574f445",
   "metadata": {},
   "outputs": [],
   "source": [
    "def handle_line_with_markup(first_character, rest_of_line, current_lowest_tag, current_lowest_div):\n",
    "    ''' handles linke with specific ezdrama markup symbol at the start\n",
    "    returns new current_lowest_tag which is to be appended further'''\n",
    "    if first_character == '$':\n",
    "        new_stage = Tag(name='stage')\n",
    "        new_stage.append(rest_of_line.strip())\n",
    "        current_lowest_div.append(new_stage)\n",
    "        #current_lowest_tag = new_stage # при отключениии stage перестает быть мультистрочным и поедать все немаркированные строки после себя\n",
    "    elif first_character == '@':\n",
    "        new_sp = Tag(name='sp')\n",
    "        new_sp.append(rest_of_line)\n",
    "        current_lowest_div.append(new_sp)\n",
    "        current_lowest_tag = new_sp\n",
    "    elif first_character == '^':\n",
    "        new_cl = Tag(name='castList')\n",
    "        new_cl.append(rest_of_line)\n",
    "        current_lowest_div.append(new_cl)\n",
    "        current_lowest_tag = new_cl\n",
    "    elif first_character == '#':\n",
    "        new_div = Tag(name='div')\n",
    "        head = Tag(name='head')\n",
    "        head.append(rest_of_line.strip('#'))\n",
    "        new_div['level'] = get_div_level(rest_of_line)\n",
    "        new_div.append(head)\n",
    "        if new_div['level'] > current_lowest_div['level']:\n",
    "            current_lowest_div.append(new_div)\n",
    "        elif new_div['level'] == current_lowest_div['level']:\n",
    "            current_lowest_div.parent.append(new_div)\n",
    "        else:\n",
    "            current_lowest_div.parent.parent.append(new_div)\n",
    "        current_lowest_div = new_div\n",
    "        current_lowest_tag = new_div\n",
    "    return(current_lowest_tag, current_lowest_div)"
   ]
  },
  {
   "cell_type": "code",
   "execution_count": 112,
   "id": "f9714d77",
   "metadata": {},
   "outputs": [],
   "source": [
    "def add_author_to_header(header, line):\n",
    "    fdesc = header.find('titleStmt')\n",
    "    author = Tag(name='author')\n",
    "    author.append(line[7:])\n",
    "    fdesc.append(author)"
   ]
  },
  {
   "cell_type": "code",
   "execution_count": 113,
   "id": "b5a7e23a",
   "metadata": {},
   "outputs": [],
   "source": [
    "def add_title_to_header(header, line):\n",
    "    titlest = header.find('titleStmt')\n",
    "    title = Tag(name='title')\n",
    "    title['type'] = 'main'\n",
    "    title.append(line[7:])\n",
    "    titlest.append(title)"
   ]
  },
  {
   "cell_type": "code",
   "execution_count": 114,
   "id": "93ccc439",
   "metadata": {},
   "outputs": [],
   "source": [
    "def add_subtitle_to_header(header, line):\n",
    "    titlest = header.find('titleStmt')\n",
    "    title = Tag(name='title')\n",
    "    title['type'] = 'sub'\n",
    "    title.append(line[10:])\n",
    "    titlest.append(title)"
   ]
  },
  {
   "cell_type": "code",
   "execution_count": 115,
   "id": "f1d04c3e",
   "metadata": {},
   "outputs": [],
   "source": [
    "def parse_lines(file_lines):\n",
    "    '''This function parses lines of a file \n",
    "    in ezdrama format and \n",
    "    produces an output XML tree\n",
    "    at this stage we only identify: \n",
    "    -- basic <div> structure\n",
    "    -- external (not-inside-the-sp) <stage> directions \n",
    "    -- <sp>-s without internal markup\n",
    "    '''\n",
    "    special_symb_list = '@$^#'\n",
    "    root = Tag(name='TEI')\n",
    "    header = create_header()\n",
    "    root.append(header)\n",
    "    text = Tag(name='text')\n",
    "    body = Tag(name='body')\n",
    "    text.append(body)\n",
    "    root.append(text)\n",
    "    \n",
    "    current_lowest_tag = body\n",
    "    current_lowest_div = body\n",
    "    current_lowest_div['level'] = 0\n",
    "    \n",
    "    for line in file_lines:\n",
    "        if line.startswith('@author'):\n",
    "            add_author_to_header(header, line.strip())\n",
    "        elif line.startswith('@title'):\n",
    "            add_title_to_header(header, line.strip())\n",
    "        elif line.startswith('@subtitle'):\n",
    "            add_subtitle_to_header(header, line.strip())\n",
    "        else:\n",
    "            first_character = line[:1] # отрезаем первый спецсимвол, берем его\n",
    "            rest_of_line = line[1:] # отрезаем первый спецсимвол, берем остаток\n",
    "            if first_character in special_symb_list:\n",
    "                current_lowest_tag, current_lowest_div = handle_line_with_markup(first_character, \n",
    "                                                                 rest_of_line, \n",
    "                                                                 current_lowest_tag,\n",
    "                                                                 current_lowest_div)\n",
    "            else:\n",
    "                current_lowest_tag.append(line)\n",
    "    return(root)"
   ]
  },
  {
   "cell_type": "code",
   "execution_count": 116,
   "id": "8133b238",
   "metadata": {},
   "outputs": [],
   "source": [
    "def check_prose(first_line_of_speech):\n",
    "    #print(first_line_of_speech)\n",
    "    if first_line_of_speech.startswith('~'):\n",
    "        return False\n",
    "    return True"
   ]
  },
  {
   "cell_type": "code",
   "execution_count": 117,
   "id": "85b17a03",
   "metadata": {},
   "outputs": [],
   "source": [
    "def clean_after_translit(line):\n",
    "    line = line.replace('і', 'i')\n",
    "    line = line.replace('ї', 'i')\n",
    "    line = line.replace('і', 'i')\n",
    "    line = line.replace('є', 'e')\n",
    "    line = line.replace(\"'\", \"\")\n",
    "    line = line.replace(\"’\", \"\")\n",
    "    line = line.replace(\"«\", \"\")\n",
    "    line = line.replace(\"»\", \"\")\n",
    "    line = line.replace(\"′\", \"\")\n",
    "    line = line.replace(\" \", \"_\")\n",
    "    return line"
   ]
  },
  {
   "cell_type": "code",
   "execution_count": 118,
   "id": "5defe38e",
   "metadata": {},
   "outputs": [],
   "source": [
    "def add_cast_items(soup):\n",
    "    castList = soup.find('castList')\n",
    "    #newCastList = Tag(name='castList')\n",
    "    casttext = castList.text\n",
    "    castList.clear()\n",
    "    for line in casttext.split('\\n'):\n",
    "        castItem = Tag(name='castItem')\n",
    "        castItem.append(line)\n",
    "        castList.append(castItem)"
   ]
  },
  {
   "cell_type": "code",
   "execution_count": 126,
   "id": "5bc46015",
   "metadata": {},
   "outputs": [],
   "source": [
    "def post_process_sp(sp):\n",
    "    text_of_sp = sp.text \n",
    "    sp.clear()\n",
    "    \n",
    "    text_split_in_lines = text_of_sp.split('\\n')\n",
    "    first_line = text_split_in_lines[0]\n",
    "    speaker = Tag(name='speaker')\n",
    "    sp.append(speaker)\n",
    "    check_stage = re.search('([^()]+)(\\(.+?\\)[.,:!;]?)', first_line)\n",
    "    if check_stage:\n",
    "        speaker.append(check_stage.group(1))\n",
    "        inside_stage = Tag(name='stage')\n",
    "        inside_stage.append(check_stage.group(2).strip())\n",
    "        sp.append(inside_stage)\n",
    "    else:\n",
    "        speaker.append(first_line.strip())\n",
    "        \n",
    "    \n",
    "    prose = check_prose(text_split_in_lines[1])\n",
    "    if prose:\n",
    "        speechtext = Tag(name='p') # вкрутить выбор между l и p, м.б. на основе метадаты из супа\n",
    "    else:\n",
    "        speechtext = Tag(name='lg')\n",
    "        text_split_in_lines[1] = text_split_in_lines[1].strip('~')\n",
    "    for line in text_split_in_lines[1:]:\n",
    "        if len(line) > 0:\n",
    "            switch_to_poetry = not check_prose(line)\n",
    "            check_inline_brackes  = re.findall('([^()]*)(\\(.+?\\)[.,:!;]?)([^()]*)', line)# доработать чтобы скобки с переносом внутри тоже работали\n",
    "            if check_inline_brackes:\n",
    "                for triplet in check_inline_brackes: \n",
    "                    if len(triplet[0]) > 0:\n",
    "                        if not prose:\n",
    "                            poetic_line = Tag(name='l')\n",
    "                            poetic_line.append(triplet[0].strip('~'))\n",
    "                            speechtext.append(poetic_line)\n",
    "                        else:\n",
    "                            speechtext.append(triplet[0])\n",
    "                    inside_stage = Tag(name='stage')\n",
    "                    inside_stage.append(triplet[1].strip())\n",
    "                    speechtext.append(inside_stage)\n",
    "                    if len(triplet[2]) > 0:\n",
    "                        if not prose:\n",
    "                            poetic_line = Tag(name='l')\n",
    "                            poetic_line.append(triplet[2])\n",
    "                            speechtext.append(poetic_line)\n",
    "                        else:\n",
    "                            speechtext.append(triplet[2])\n",
    "            #elif line.startswith('i$'):   \n",
    "\n",
    "            else:\n",
    "                if switch_to_poetry:\n",
    "                    sp.append(speechtext)\n",
    "                    speechtext = Tag(name='lg')\n",
    "                    poetic_line = Tag(name='l') \n",
    "                    poetic_line.append(line.strip('~'))\n",
    "                    speechtext.append(poetic_line)\n",
    "                    prose = False\n",
    "                elif prose:\n",
    "                    speechtext.append(line)\n",
    "                else:\n",
    "                    poetic_line = Tag(name='l') \n",
    "                    poetic_line.append(line)\n",
    "                    speechtext.append(poetic_line)\n",
    "\n",
    "\n",
    "    sp.append(speechtext)\n",
    "\n",
    "    if re.search('[йцукенгшщзхъфывапролджэячсмитью]', speaker.text.lower()):\n",
    "        clean_who = clean_after_translit(translit(speaker.text.strip('. '), UkrainianISO9)).lower()\n",
    "    else:\n",
    "        clean_who = speaker.text.strip('. ').lower()\n",
    "    sp['who'] = f'#{clean_who}'"
   ]
  },
  {
   "cell_type": "code",
   "execution_count": 127,
   "id": "e9611da9",
   "metadata": {},
   "outputs": [],
   "source": [
    "def post_process(soup):\n",
    "    set_of_char_pairs = set() # множество пар ID + строка \n",
    "    add_cast_items(soup)\n",
    "    for sp in soup.find_all('sp'):\n",
    "        post_process_sp(sp)\n",
    "        if 'who' in sp.attrs:\n",
    "            #print[sp\n",
    "            #try:\n",
    "            set_of_char_pairs.add((sp['who'], sp.speaker.text.strip('. '))) #\n",
    "            #except:\n",
    "            #    pass\n",
    "    for div in soup.find_all('div'):\n",
    "        if div['level'] == 0:\n",
    "            div.attrs = {}\n",
    "        elif div['level'] == 1:\n",
    "            div.attrs = {}\n",
    "            div['type'] = 'act'\n",
    "        elif div['level'] == 2:\n",
    "            div.attrs = {}\n",
    "            div['type'] = 'scene'\n",
    "    add_particdesc_to_header(soup, set_of_char_pairs)\n",
    "    \n",
    "    #TEI = soup.find('teiHeader')\n",
    "    #print(TEI)\n",
    "    soup['xmlns'] = \"http://www.tei-c.org/ns/1.0\"\n",
    "    #soup['xml:lang'] = \"ukr\"\n",
    "    return(soup)"
   ]
  },
  {
   "cell_type": "code",
   "execution_count": 128,
   "id": "f8213fda",
   "metadata": {},
   "outputs": [],
   "source": [
    "def add_particdesc_to_header(soup, set_of_char_pairs):\n",
    "    #print(set_of_char_pairs)\n",
    "    profileDesc = Tag(name = 'profileDesc')\n",
    "    particDesc = Tag(name = 'particDesc')\n",
    "    profileDesc.append(particDesc)\n",
    "    listPerson = Tag(name = 'listPerson')\n",
    "    particDesc.append(listPerson)\n",
    "    for pair in set_of_char_pairs:\n",
    "        person = Tag(name = 'person')\n",
    "        person['xml:id'] = pair[0].strip('#')\n",
    "        persName = Tag(name = 'persName')\n",
    "        person.append(persName)\n",
    "        #print(pair[1])\n",
    "        persName.append(pair[1])\n",
    "        listPerson.append(person)\n",
    "    teiHeader = soup.find('teiHeader')\n",
    "    teiHeader.append(profileDesc)"
   ]
  },
  {
   "cell_type": "markdown",
   "id": "68dee426",
   "metadata": {},
   "source": [
    "## Use"
   ]
  },
  {
   "cell_type": "code",
   "execution_count": 129,
   "id": "6bab60b6",
   "metadata": {},
   "outputs": [],
   "source": [
    "path = 'sample.txt'\n",
    "parse_file(path)"
   ]
  },
  {
   "cell_type": "code",
   "execution_count": 130,
   "id": "004f8c54",
   "metadata": {},
   "outputs": [],
   "source": [
    "newfile = path.replace('.txt', '.xml')"
   ]
  },
  {
   "cell_type": "code",
   "execution_count": 131,
   "id": "7a9d4e08",
   "metadata": {},
   "outputs": [
    {
     "name": "stderr",
     "output_type": "stream",
     "text": [
      "/usr/local/bin/xmlformat:1459: warning: assigned but unused variable - in_file\n",
      "/usr/local/bin/xmlformat:100: warning: nested repeat operator '+' and '?' was replaced with '*' in regular expression\n",
      "/usr/local/bin/xmlformat:100: warning: nested repeat operator '+' and '?' was replaced with '*' in regular expression\n",
      "/usr/local/bin/xmlformat:100: warning: nested repeat operator '+' and '?' was replaced with '*' in regular expression\n",
      "/usr/local/bin/xmlformat:100: warning: nested repeat operator '+' and '?' was replaced with '*' in regular expression\n",
      "/usr/local/bin/xmlformat:100: warning: nested repeat operator '+' and '?' was replaced with '*' in regular expression\n",
      "/usr/local/bin/xmlformat:100: warning: nested repeat operator '+' and '?' was replaced with '*' in regular expression\n"
     ]
    },
    {
     "data": {
      "text/plain": [
       "0"
      ]
     },
     "execution_count": 131,
     "metadata": {},
     "output_type": "execute_result"
    }
   ],
   "source": [
    "os.system(f'xmlformat --config-file=format.conf \\\"{newfile}\\\" > \\\"{newfile.replace(\".xml\",\"\")}_indented.xml\\\" ')"
   ]
  }
 ],
 "metadata": {
  "kernelspec": {
   "display_name": "Python 3 (ipykernel)",
   "language": "python",
   "name": "python3"
  },
  "language_info": {
   "codemirror_mode": {
    "name": "ipython",
    "version": 3
   },
   "file_extension": ".py",
   "mimetype": "text/x-python",
   "name": "python",
   "nbconvert_exporter": "python",
   "pygments_lexer": "ipython3",
   "version": "3.9.13"
  }
 },
 "nbformat": 4,
 "nbformat_minor": 5
}
