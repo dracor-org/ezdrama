{
 "cells": [
  {
   "cell_type": "code",
   "execution_count": null,
   "id": "17123f65",
   "metadata": {},
   "outputs": [],
   "source": [
    "import sys\n",
    "import re\n",
    "import os\n",
    "from datetime import datetime\n",
    "#!pip install transliterate \n",
    "from transliterate import translit\n",
    "#!pip install yiddish\n",
    "import yiddish\n",
    "#!pip install bs4\n",
    "from bs4 import BeautifulSoup, Tag\n",
    "# imports the EzDrama parser from the local parser.py file\n",
    "from parser import Parser"
   ]
  },
  {
   "cell_type": "code",
   "execution_count": null,
   "id": "738fbab1",
   "metadata": {},
   "outputs": [],
   "source": [
    "parser = Parser()"
   ]
  },
  {
   "cell_type": "code",
   "execution_count": null,
   "id": "4f85bef1",
   "metadata": {},
   "outputs": [],
   "source": [
    "parser.process_file('sample.txt')"
   ]
  }
 ],
 "metadata": {
  "kernelspec": {
   "display_name": "Python 3 (ipykernel)",
   "language": "python",
   "name": "python3"
  },
  "language_info": {
   "codemirror_mode": {
    "name": "ipython",
    "version": 3
   },
   "file_extension": ".py",
   "mimetype": "text/x-python",
   "name": "python",
   "nbconvert_exporter": "python",
   "pygments_lexer": "ipython3",
   "version": "3.9.13"
  }
 },
 "nbformat": 4,
 "nbformat_minor": 5
}
